{
  "nbformat": 4,
  "nbformat_minor": 0,
  "metadata": {
    "colab": {
      "provenance": []
    },
    "kernelspec": {
      "name": "python3",
      "display_name": "Python 3"
    },
    "language_info": {
      "name": "python"
    }
  },
  "cells": [
    {
      "cell_type": "markdown",
      "source": [
        "#**THEORETICAL QUESTIONS & ANSWER(OOPs)**"
      ],
      "metadata": {
        "id": "kAMOTiHFFRZB"
      }
    },
    {
      "cell_type": "markdown",
      "source": [
        "**QUES 1. What is Object-Oriented Programming(OOP)?**\n",
        "- **Definition:**\n",
        " Object-Oriented Programming (OOP) is a programming paradigm based on the concept of “objects”, which can contain data (attributes) and\n",
        " code (methods).It focuses on organizing software into reusable, modular pieces instead of writing code in a linear (procedural) way.\n",
        "\n",
        "- Key Concepts of OOP\n",
        " 1. Class → Blueprint/template for creating objects.\n",
        " 2. Object →Instance of a class (real-world entity).\n",
        " 3. Encapsulation →Binding data and methods together in a single unit.\n",
        " 4. Abstraction →Hiding unnecessary details and showing only the essential features.\n",
        " 5. Inheritance →One class can acquire properties and methods of another class.\n",
        " 6. Polymorphism →Ability to use the same interface with different forms (method overriding & overloading).\n",
        " ```\n",
        " # Class (Blueprint)\n",
        " class Car:\n",
        "     def __init__(self, brand, model):\n",
        "        self.brand = brand   # Attribute\n",
        "        self.model = model\n",
        "     def display_info(self):   # Method\n",
        "        return f\"Car: {self.brand} {self.model}\"\n",
        " # Object (Instance of Class)\n",
        " car1 = Car(\"Tesla\", \"Model S\")\n",
        " car2 = Car(\"BMW\", \"X5\")\n",
        " print(car1.display_info())   # Output Car: Tesla Model S\n",
        " print(car2.display_info())   # Output Car: BMW X5\n",
        "```"
      ],
      "metadata": {
        "id": "F_3K3uYlFki8"
      }
    },
    {
      "cell_type": "markdown",
      "source": [
        "**QUES 2. What is a class in OOP?**\n",
        "- A class in Object-Oriented Programming (OOP) is a blueprint or template that defines how to create objects.It describes the attributes (data/properties) and methods (functions/behaviors) that the objects of that class will have.\n",
        "> Some Key Points about Classes:\n",
        " >>1. Blueprint Concept:Think of a class as a design/plan.Example: An architect draws a blueprint of a house→but the actual house is built later.\n",
        " >>2. Objects are Instances:Objects are real, usable things created from the class.Example: If Car is a class (blueprint), then Tesla or BMW are actual objects (real cars).\n",
        " >>3. Encapsulation of Data + Behavior: Classes combine attributes (variables) and methods (functions) into one unit.Example: A Car has attributes like brand,model and methods like start(),brake().\n",
        " >>4. Reusability: Once a class is defined, you can create multiple objects without rewriting code.Example: From one Car class, you can create car1,car2, car3 easily.\n",
        "\n",
        "```\n",
        "class ClassName:\n",
        "    # attributes (variables)\n",
        "    \n",
        "    # methods (functions)\n",
        "    def method_name(self, parameters):\n",
        "        # code block\n",
        "        pass\n",
        "```"
      ],
      "metadata": {
        "id": "PdoAhcIZJUv9"
      }
    },
    {
      "cell_type": "markdown",
      "source": [
        "**QUES 3. What is an object in OOP?**\n",
        "- An object in Object-Oriented Programming (OOP) is a real-world entity or an instance of a class.It represents something that has state (data/attributes) and behavior (methods/functions) and it also represents a real-world entity that has its own data like attributes and can perform actions (methods) defined in the class.\n",
        "```\n",
        "class Car:\n",
        "    def __init__(self, brand, model):\n",
        "        self.brand = brand\n",
        "        self.model = model\n",
        "\n",
        "    def display(self):\n",
        "        print(f\"Car: {self.brand} {self.model}\")\n",
        "\n",
        "# Creating objects\n",
        "car1 = Car(\"Tesla\", \"Model X\")   # object 1\n",
        "car2 = Car(\"BMW\", \"i8\")          # object 2\n",
        "\n",
        "car1.display()\n",
        "car2.display()\n",
        "```"
      ],
      "metadata": {
        "id": "eqLdMyJlOdPL"
      }
    },
    {
      "cell_type": "markdown",
      "source": [
        "**QUES 4. What is the difference between abstraction and encapsulation?**\n",
        "-Both Abstraction and Encapsulation are key concepts of Object-Oriented Programming (OOP).They sound similar but serve different purposes.\n",
        "\n",
        "1. Definition:\n",
        ">>Abstraction: Hides implementation details and shows only the essential features.\n",
        "\n",
        "   >>Encapsulation: Hides data by bundling variables and methods inside a class.\n",
        "\n",
        "2. Focus:\n",
        ">>Abstraction: Focuses on what an object does.\n",
        "  \n",
        "   >>Encapsulation: Focuses on how data is accessed and protected.\n",
        "\n",
        "3. Achieved By:\n",
        ">>Abstraction: Through abstract classes and interfaces.\n",
        "   \n",
        "   >>Encapsulation: Through access modifiers (public, private, protected).\n",
        "\n",
        "4. Purpose:\n",
        ">>Abstraction: To reduce complexity for the user.\n",
        "\n",
        "   >>Encapsulation: To ensure security and controlled access to data.\n",
        "\n",
        "5. Example:\n",
        ">>Abstraction: A driver presses brake/accelerator without knowing engine details.\n",
        "\n",
        "   >>Encapsulation: The engine’s internal data is hidden but controlled via methods."
      ],
      "metadata": {
        "id": "buKYOqeUPeiW"
      }
    },
    {
      "cell_type": "markdown",
      "source": [
        "**QUES 5.  What are dunder methods in Python?**\n",
        "- Dunder methods in Python (short for Double UNDERSCORE methods) are special built-in methods that begin and end with double underscores (__methodname__).\n",
        "They are also called magic methods and are used to define the behavior of objects for built-in operations.\n",
        "\n",
        ">Start and end with __ (example: __init__, __str__, __len__).\n",
        "\n",
        ">They are automatically called by Python in certain situations.\n",
        "\n",
        ">Help in operator overloading and customizing object behavior.\n",
        "\n",
        ">in this there we use function name with double underscore like\n",
        "```\n",
        "__init__\n",
        "__call__\n",
        "__str__\n",
        "__repr__\n",
        "```"
      ],
      "metadata": {
        "id": "Wy5OpWx6St_u"
      }
    },
    {
      "cell_type": "markdown",
      "source": [
        "**QUES 6.Explain the concept of inheritance in OOP?**\n",
        "- Inheritance in OOP is a concept where one class (called the child class or derived class) can reuse the properties and methods of another class (called the parent class or base class).It allows code reusability, extensibility, and helps build a hierarchy of classes.\n",
        "\n",
        ">**Key Points:**\n",
        "\n",
        ">>Parent/Base Class → The class whose features are inherited.\n",
        "\n",
        ">>Child/Derived Class → The class that inherits from the parent.\n",
        "\n",
        ">>A child class can also have its own additional properties and methods.\n",
        "\n",
        "- There are some types of Inheritance:\n",
        ">1. single inheritance\n",
        ">2. multi-level inheritance\n",
        ">3. multiple inheritance\n",
        ">4. hierarchical inheritance\n",
        ">5. hybrid inheritance"
      ],
      "metadata": {
        "id": "A0F5Lst0TqPr"
      }
    },
    {
      "cell_type": "markdown",
      "source": [
        "**QUES 7. What is polymorphism in OOP?**\n",
        "- Polymorphism in OOP is the ability of an object to take many forms. It allows different classes to be treated through the same interface, and the same operation can behave differently based on the object calling it.\n",
        "\n",
        "Enables code flexibility and reusability that is achieved via method overloading, method overriding, and operator overloading.\n",
        "\n",
        "```\n",
        "class Animal:\n",
        "    def sound(self):\n",
        "        print(\"Some generic sound\")\n",
        "\n",
        "class Dog(Animal):\n",
        "    def sound(self):  # Overriding parent method\n",
        "        print(\"Bark\")\n",
        "\n",
        "class Cat(Animal):\n",
        "    def sound(self):\n",
        "        print(\"Meow\")\n",
        "\n",
        "# Using same interface\n",
        "animals = [Dog(), Cat()]\n",
        "for animal in animals:\n",
        "    animal.sound()\n",
        "\n",
        "```"
      ],
      "metadata": {
        "id": "cH1iq0RYVNSc"
      }
    },
    {
      "cell_type": "markdown",
      "source": [
        "**QUES 8. How is encapsulation achieved in Python?**\n",
        "- Encapsulation in Python is achieved by restricting access to the internal data of a class and providing controlled access through methods.\n",
        "\n",
        ">Key Points:\n",
        "\n",
        ">1. Hides the internal details of an object to prevent unauthorized access.\n",
        "\n",
        ">2. Uses access modifiers to define visibility:\n",
        "\n",
        ">>a. Public (variable) → Accessible from anywhere.\n",
        "\n",
        ">>b. Protected (_variable) → Should not be accessed directly outside the class (convention).\n",
        "\n",
        ">>c. Private (__variable) → Not accessible directly from outside the class."
      ],
      "metadata": {
        "id": "dg7AOtsoV4sw"
      }
    },
    {
      "cell_type": "markdown",
      "source": [
        "**QUES 9. What is a constructor in Python?**\n",
        "- A constructor in Python is a special method used to initialize an object’s attributes when the object is created.\n",
        "\n",
        ">Key Points:\n",
        "\n",
        ">1. Always named __init__().\n",
        "\n",
        ">2. Automatically called when an object is created.\n",
        "\n",
        ">3. Can take parameters to initialize object properties.\n",
        "\n",
        ">4. Helps in setting default values for object attributes.\n",
        "\n",
        "```\n",
        "class Car:\n",
        "    def __init__(self, brand, model):  # Constructor\n",
        "        self.brand = brand\n",
        "        self.model = model\n",
        "\n",
        "    def display(self):\n",
        "        print(f\"Car: {self.brand} {self.model}\")\n",
        "\n",
        "# Object creation\n",
        "car1 = Car(\"Tesla\", \"Model X\")\n",
        "car1.display()\n",
        "\n",
        "```"
      ],
      "metadata": {
        "id": "X3MA9EXEWsFi"
      }
    },
    {
      "cell_type": "markdown",
      "source": [
        "**QUES 10. What are class and static methods in Python?**\n",
        "- In Python, class methods and static methods are special methods that are not tied to a specific object but to the class itself.\n",
        "\n",
        ">1. Class Method\n",
        "\n",
        ">>Defined using the @classmethod decorator.\n",
        "\n",
        ">>Takes cls as the first parameter (refers to the class, not the object).\n",
        "\n",
        ">>Can access or modify class variables, but cannot access instance variables.\n",
        "\n",
        "```\n",
        "class Car:\n",
        "    wheels = 4  # Class variable\n",
        "\n",
        "    @classmethod\n",
        "    def show_wheels(cls):\n",
        "        print(f\"A car has {cls.wheels} wheels\")\n",
        "\n",
        "Car.show_wheels()  \n",
        "\n",
        "```\n",
        "\n",
        ">2. Static Method\n",
        "\n",
        ">>Defined using the @staticmethod decorator.\n",
        "\n",
        ">>Does not take self or cls as a parameter.\n",
        "\n",
        ">>Cannot access instance or class variables directly.\n",
        "\n",
        ">>Used for utility or helper functions related to the class.\n",
        "\n",
        "```\n",
        "class Car:\n",
        "    @staticmethod\n",
        "    def car_sound():\n",
        "        print(\"Vroom! Vroom!\")\n",
        "\n",
        "Car.car_sound()\n",
        "```"
      ],
      "metadata": {
        "id": "YySWURbyXBRY"
      }
    },
    {
      "cell_type": "markdown",
      "source": [
        "**QUES 11. What is method overloading in Python?**\n",
        "\n",
        ">Method Overloading in Python is the ability to define multiple methods with the same name but different parameters (number or type) in the same class.However, Python does not support traditional method overloading like Java or C++.\n",
        "\n",
        ">If multiple methods with the same name are defined, the last one overrides the previous ones.\n",
        "\n",
        ">To achieve overloading, we can use default arguments or variable-length arguments (*args, **kwargs).\n",
        "\n",
        "```\n",
        "class Math:\n",
        "    def add(self, *numbers):   # Accepts any number of arguments\n",
        "        return sum(numbers)\n",
        "\n",
        "m = Math()\n",
        "print(m.add(5, 10))       \n",
        "print(m.add(5, 10, 20))  \n",
        "\n",
        "```"
      ],
      "metadata": {
        "id": "JbqespmlXjkx"
      }
    },
    {
      "cell_type": "markdown",
      "source": [
        "**QUES 12. What is method overriding in OOP?**\n",
        "\n",
        ">Method Overriding in OOP occurs when a child class provides its own implementation of a method that is already defined in its parent class.\n",
        "\n",
        ">Key Points:\n",
        "\n",
        ">1. Allows runtime polymorphism.\n",
        "\n",
        ">2. The child class method overrides the parent class method with the same name, same parameters.\n",
        "\n",
        ">3. Enables custom behavior in the child class while reusing the parent’s structure.\n"
      ],
      "metadata": {
        "id": "mhhPU4gAXpg1"
      }
    },
    {
      "cell_type": "markdown",
      "source": [
        "**QUES 13. What is a property decorator in Python?**\n",
        "\n",
        ">A property decorator in Python is a built-in @property that allows you to access a method like an attribute.\n",
        "It is mainly used to control access to private variables and provide getter, setter, and deleter functionality in a clean way.\n",
        "\n",
        ">Key Points:\n",
        "\n",
        ">1. @property makes a method behave like a read-only attribute.\n",
        "\n",
        ">2. Can define getter, setter, and deleter for controlled access.\n",
        "\n",
        ">3. Helps in encapsulation without changing how the variable is accessed."
      ],
      "metadata": {
        "id": "MUxXVK_4YbCV"
      }
    },
    {
      "cell_type": "markdown",
      "source": [
        "**QUES 14. Why is polymorphism important in OOP?**\n",
        "\n",
        "- Polymorphism is important in OOP because it allows objects of different classes to be treated uniformly through a common interface.\n",
        "\n",
        ">**Key Reasons:**\n",
        "\n",
        ">1. Code Reusability: Same method name can be used for different object types.\n",
        "\n",
        ">2. Flexibility: Objects can behave differently while using the same method.\n",
        "\n",
        ">3. Simplifies Code: Reduces conditional statements for different object types.\n",
        "\n",
        ">4. Supports Runtime Polymorphism: Methods can be overridden in child classes to provide specific behavior.\n",
        "\n",
        ">5. Easier Maintenance & Extensibility: New classes can be added without changing existing code."
      ],
      "metadata": {
        "id": "i35g7GqcY-eT"
      }
    },
    {
      "cell_type": "markdown",
      "source": [
        "**QUES 15. What is an abstract class in Python?**\n",
        "\n",
        "- An abstract class in Python is a class that cannot be instantiated and is meant to be inherited by other classes.It is used to define a common interface for a group of subclasses.\n",
        "\n",
        ">**Key Points:**\n",
        "\n",
        ">1. Created using the abc module and ABC class.\n",
        "\n",
        ">2. Can have abstract methods (declared but not implemented) and concrete methods (with implementation).\n",
        "\n",
        ">3. Ensures that subclasses implement the abstract methods.\n",
        "\n",
        ">4. Cannot create objects of an abstract class directly."
      ],
      "metadata": {
        "id": "6zBDSOgyZ0pF"
      }
    },
    {
      "cell_type": "markdown",
      "source": [
        "**QUES 16. What are the advantages of OOP?**\n",
        "\n",
        "- Advantages of Object-Oriented Programming (OOP):\n",
        "\n",
        ">1. Modularity: Code is organized into classes and objects, making it easier to manage and debug.\n",
        "\n",
        ">2. Reusability: Classes can be reused across programs using inheritance.\n",
        "\n",
        ">3. Encapsulation: Data and methods are bundled together, protecting internal data from unauthorized access.\n",
        "\n",
        ">4. Abstraction: Hides complex implementation details and shows only essential features.\n",
        "\n",
        ">5. Polymorphism: Same interface can be used for different object types, providing flexibility.\n",
        "\n",
        ">6. Maintainability: OOP code is easier to update and maintain due to modular structure.\n",
        "\n",
        ">7. Real-world modeling: Objects can represent real-world entities, making programs intuitive.\n",
        "\n",
        ">8. Extensibility: New features can be added with minimal changes to existing code."
      ],
      "metadata": {
        "id": "u8PflWtbaONU"
      }
    },
    {
      "cell_type": "markdown",
      "source": [
        "**QUES 17. What is the difference between a class variable and an instance variable?**\n",
        "\n",
        "> The comparison of Class Variable vs Instance Variable :\n",
        "\n",
        "1. **Definition**:\n",
        "\n",
        "   * **Class Variable**: Shared by all instances of the class.\n",
        "   * **Instance Variable**: Unique to each object/instance of the class.\n",
        "\n",
        "2. **Declared**:\n",
        "\n",
        "   * **Class Variable**: Inside the class, **outside any method**.\n",
        "   * **Instance Variable**: Inside the **constructor (`__init__`)** or methods using `self`.\n",
        "\n",
        "3. **Access**:\n",
        "\n",
        "   * **Class Variable**: Accessed by **class name** or **object**.\n",
        "   * **Instance Variable**: Accessed only by the **object** using `self`.\n",
        "\n",
        "4. **Memory**:\n",
        "\n",
        "   * **Class Variable**: Stored **once** for all objects.\n",
        "   * **Instance Variable**: Each object has its **own copy**.\n",
        "\n",
        "5. **Use Case**:\n",
        "\n",
        "   * **Class Variable**: To store **common properties** for all objects.\n",
        "   * **Instance Variable**: To store **object-specific properties**."
      ],
      "metadata": {
        "id": "TL3A36Kqat3l"
      }
    },
    {
      "cell_type": "markdown",
      "source": [
        "**QUES 18. What is multiple inheritance in Python?**\n",
        "\n",
        "- **Multiple Inheritance** in Python is a feature where a **child class can inherit from more than one parent class**.\n",
        "\n",
        "> Key Points:\n",
        "\n",
        ">1. Allows a class to **reuse attributes and methods** from multiple parent classes.\n",
        ">2. Helps in **combining functionalities** from different classes.\n",
        ">3. **Method Resolution Order (MRO)** decides which parent’s method is called if multiple parents have the same method.\n",
        "\n",
        "### **Syntax:**\n",
        "\n",
        "```python\n",
        "class Parent1:\n",
        "    def func1(self):\n",
        "        print(\"Function from Parent1\")\n",
        "\n",
        "class Parent2:\n",
        "    def func2(self):\n",
        "        print(\"Function from Parent2\")\n",
        "\n",
        "class Child(Parent1, Parent2):   # Inherits from both Parent1 and Parent2\n",
        "    def func3(self):\n",
        "        print(\"Function from Child\")\n",
        "\n",
        "c = Child()\n",
        "c.func1()  # Output: Function from Parent1\n",
        "c.func2()  # Output: Function from Parent2\n",
        "c.func3()  # Output: Function from Child\n",
        "```"
      ],
      "metadata": {
        "id": "-OF_QIJJa8KE"
      }
    },
    {
      "cell_type": "markdown",
      "source": [
        "**QUES 19. Explain the purpose of ‘’__str__’ and ‘__repr__’ ‘ methods in Python.**\n",
        "\n",
        "- In Python, `__str__` and `__repr__` are **dunder (magic) methods** used to define the **string representation** of an object.\n",
        "\n",
        "\n",
        ">**1. `__str__`**\n",
        "\n",
        "* Purpose: Returns a **user-friendly, readable string** representation of an object.\n",
        "* Used by the **`print()`** function and **`str()`**.\n",
        "* Goal: Make the object understandable for **end users**.\n",
        "\n",
        "**Example:**\n",
        "\n",
        "```python\n",
        "class Car:\n",
        "    def __init__(self, brand, model):\n",
        "        self.brand = brand\n",
        "        self.model = model\n",
        "\n",
        "    def __str__(self):\n",
        "        return f\"{self.brand} {self.model}\"\n",
        "\n",
        "car = Car(\"Tesla\", \"Model X\")\n",
        "print(car)       # Output: Tesla Model X\n",
        "```\n",
        "\n",
        "\n",
        "\n",
        ">**2. `__repr__`**\n",
        "\n",
        "* Purpose: Returns an **unambiguous string** representation of an object, meant for **developers/debugging**.\n",
        "* Should ideally be **valid Python code** to recreate the object.\n",
        "* Used by **`repr()`** and in the **interactive interpreter**.\n",
        "\n",
        "**Example:**\n",
        "\n",
        "```python\n",
        "class Car:\n",
        "    def __init__(self, brand, model):\n",
        "        self.brand = brand\n",
        "        self.model = model\n",
        "\n",
        "    def __repr__(self):\n",
        "        return f\"Car('{self.brand}', '{self.model}')\"\n",
        "\n",
        "car = Car(\"Tesla\", \"Model X\")\n",
        "print(repr(car))  # Output: Car('Tesla', 'Model X')\n",
        "```"
      ],
      "metadata": {
        "id": "VHr9Ll4YbTmE"
      }
    },
    {
      "cell_type": "markdown",
      "source": [
        "**QUES 20. What is the significance of the ‘super()’ function in Python?**\n",
        "\n",
        "- The super() function in Python is used to call methods from a parent (superclass) inside a child (subclass).\n",
        "\n",
        ">**Significance of super()**\n",
        "\n",
        ">1. Access Parent Class Methods → Calls the parent class’s constructor (__init__) or other methods without explicitly naming the parent.\n",
        "\n",
        ">2. Code Reusability → Avoids rewriting parent code in the child class.\n",
        "\n",
        ">3. Supports Multiple Inheritance → Ensures the correct Method Resolution Order (MRO) is followed when multiple parents exist.\n",
        "\n",
        ">4. Clean & Maintainable Code → If the parent class name changes, super() still works."
      ],
      "metadata": {
        "id": "-MceqjIWbt7u"
      }
    },
    {
      "cell_type": "markdown",
      "source": [
        "**QUES 21. What is the significance of the __del__ method in Python?**\n",
        "\n",
        "- The __del__ method in Python is a destructor method, which is called automatically when an object is about to be destroyed (i.e., when it is no longer referenced in memory).\n",
        "\n",
        ">Significance of __del__:\n",
        "\n",
        ">1. Resource Cleanup → Used to release resources like closing files, network connections, or database connections before the object is deleted.\n",
        "\n",
        ">2. Finalization → Provides a way to define custom cleanup behavior when an object’s life ends.\n",
        "\n",
        ">3. Garbage Collection Support → Called automatically by Python’s garbage collector when an object’s reference count becomes zero."
      ],
      "metadata": {
        "id": "e5WTBlpicDAE"
      }
    },
    {
      "cell_type": "markdown",
      "source": [
        "**QUES 22. What is the difference between @staticmethod and @classmethod in Python?**\n",
        "\n",
        ">Difference between  **@staticmethod** and **@classmethod** in Python\n",
        "\n",
        "* **Definition**:\n",
        "  Classmethod → Bound to class, takes `cls`\n",
        "  Staticmethod → Bound to class, no `self` or `cls`\n",
        "\n",
        "* **First Argument**:\n",
        "  Classmethod → `cls` (class reference)\n",
        "  Staticmethod → No default argument\n",
        "\n",
        "* **Access**:\n",
        "  Classmethod → Can access/modify **class variables**\n",
        "  Staticmethod → Cannot access class or instance variables\n",
        "\n",
        "* **Usage**:\n",
        "  Classmethod → When you need to work with the **class state**\n",
        "  Staticmethod → When logic is **independent of class and object**\n",
        "\n",
        "* **Calling**:\n",
        "  Both can be called via **ClassName.method()** or **object.method()**\n"
      ],
      "metadata": {
        "id": "THzIJfiSdBPR"
      }
    },
    {
      "cell_type": "markdown",
      "source": [
        "**QUES 23. How does polymorphism work in Python with inheritance?**\n",
        "\n",
        "- **Polymorphism with Inheritance in Python**\n",
        "\n",
        ">>Polymorphism means **same method name but different behavior** depending on the object calling it.\n",
        "With **inheritance**, a child class can **override** methods of the parent class, and Python decides at runtime which method to call.\n",
        "\n",
        "- **How it works:**\n",
        "\n",
        ">1. **Parent class defines a method**\n",
        ">2. **Child class overrides (redefines) the same method**\n",
        ">3. **When called through an object**, Python runs the version depending on the object type (runtime polymorphism).\n",
        "\n",
        "- **Example:**\n",
        "\n",
        "```python\n",
        "class Animal:\n",
        "    def sound(self):\n",
        "        return \"Some generic sound\"\n",
        "\n",
        "class Dog(Animal):\n",
        "    def sound(self):\n",
        "        return \"Bark\"\n",
        "\n",
        "class Cat(Animal):\n",
        "    def sound(self):\n",
        "        return \"Meow\"\n",
        "\n",
        "# Polymorphism in action\n",
        "animals = [Dog(), Cat(), Animal()]\n",
        "\n",
        "for a in animals:\n",
        "    print(a.sound())\n",
        "```\n",
        "\n",
        ">**Key Idea:**\n",
        "\n",
        ">Even though all objects (`Dog`, `Cat`, `Animal`) call the same method `.sound()`, the **behavior changes depending on the actual object** → that’s polymorphism with inheritance.\n"
      ],
      "metadata": {
        "id": "hxkJtCGxc5QF"
      }
    },
    {
      "cell_type": "markdown",
      "source": [
        "**QUES 24. 24.What is method chaining in Python OOP?**\n",
        "\n",
        "\n",
        "- **Method Chaining in Python OOP**\n",
        "\n",
        "> **Definition:**\n",
        "Method chaining is a technique where you call **multiple methods on the same object in a single line**, because each method **returns the object itself (`self`)**.\n",
        "\n",
        "- **How it works:**\n",
        "\n",
        "1. Each method in the class returns `self` instead of some other value.\n",
        "2. This allows calls to be **chained together** like:\n",
        "\n",
        "  ```python\n",
        "  obj.method1().method2().method3()\n",
        "  ```\n",
        "\n",
        "- **Example:**\n",
        "\n",
        "```python\n",
        "class Calculator:\n",
        "    def __init__(self, value=0):\n",
        "        self.value = value\n",
        "\n",
        "    def add(self, num):\n",
        "        self.value += num\n",
        "        return self   # returning the object itself\n",
        "\n",
        "    def multiply(self, num):\n",
        "        self.value *= num\n",
        "        return self\n",
        "\n",
        "    def result(self):\n",
        "        return self.value\n",
        "\n",
        "# Method chaining in action\n",
        "calc = Calculator()\n",
        "output = calc.add(10).multiply(5).add(2).result()\n",
        "print(output)\n",
        "```\n",
        "\n",
        "> **Key Point:**\n",
        "\n",
        ">Without chaining → `calc.add(10); calc.multiply(5); calc.add(2)`\n",
        ">With chaining → `calc.add(10).multiply(5).add(2)`"
      ],
      "metadata": {
        "id": "IwjgD0YWbotL"
      }
    },
    {
      "cell_type": "markdown",
      "source": [
        "**QUES 25. 25.What is the purpose of the __call__ method in Python?**\n",
        "\n",
        "- **`__call__` method in Python**\n",
        "\n",
        "- **Definition:**\n",
        "The `__call__` method makes an **object behave like a function**.\n",
        "If a class defines `__call__`, its instances can be called using `object()` syntax, just like a function.\n",
        "\n",
        "- **Purpose:**\n",
        "\n",
        ">* To allow **objects to be invoked like functions**.\n",
        ">* Useful for **wrapping logic**, **callbacks**, **decorators**, or **function-like classes**.\n",
        "\n",
        "\n",
        "- **Example:**\n",
        "\n",
        "```python\n",
        "class Greeting:\n",
        "    def __init__(self, name):\n",
        "        self.name = name\n",
        "\n",
        "    def __call__(self, message):\n",
        "        return f\"{message}, {self.name}!\"\n",
        "\n",
        "# Create object\n",
        "greet = Greeting(\"Sakshi\")\n",
        "\n",
        "# Call object like a function\n",
        "print(greet(\"Hello\"))\n",
        "print(greet(\"Good Morning\"))\n",
        "```\n",
        "\n",
        "\n",
        "- **Key Point:**\n",
        "\n",
        "1. Without `__call__`, you’d have to use a method (`greet.say(\"Hello\")`).\n",
        "2. With `__call__`, the object itself can be **directly invoked** like a function."
      ],
      "metadata": {
        "id": "FITNuvWeeuW_"
      }
    },
    {
      "cell_type": "markdown",
      "source": [
        "# **PRACTICAL QUESTIONS & ANSWER (OOPs)**"
      ],
      "metadata": {
        "id": "pzm7ao_IflR9"
      }
    },
    {
      "cell_type": "code",
      "source": [
        "#QUES 1. Create a parent class Animal with a method speak() that prints a generic message. Create a child class Dog that overrides the speak() method to print \"Bark!\".\n",
        "class Animal:\n",
        "  def speak(self):\n",
        "    print(\"animals also speak\")\n",
        "\n",
        "class Dog(Animal):\n",
        "  def speak(self):\n",
        "    print(\"Bark!\")\n",
        "obj=Dog()\n",
        "obj.speak()"
      ],
      "metadata": {
        "colab": {
          "base_uri": "https://localhost:8080/"
        },
        "id": "OEhP1gDDfvAR",
        "outputId": "4b138b93-7436-4eaa-99d8-59bad4b56e80"
      },
      "execution_count": null,
      "outputs": [
        {
          "output_type": "stream",
          "name": "stdout",
          "text": [
            "Bark!\n"
          ]
        }
      ]
    },
    {
      "cell_type": "code",
      "source": [
        "#QUES 2. Write a program to create an abstract class Shape with a method area(). Derive classes Circle and Rectangle from it and implement the area() method in both.\n",
        "from abc import ABC, abstractmethod\n",
        "class Shape:\n",
        "  @abstractmethod\n",
        "  def area(self):\n",
        "    pass\n",
        "class Circle(Shape):\n",
        "  def area(self,radius):\n",
        "    return 3.14*(radius**2)\n",
        "class Rectangle(Shape):\n",
        "  def area(self,l,b):\n",
        "    return l*b\n",
        "\n",
        "obj1=Circle()\n",
        "obj2=Rectangle()\n",
        "\n",
        "print(\"Area of circle with radius 4 :\",obj1.area(4))\n",
        "print(\"Area of rectangle with sides (3,4) :\",obj2.area(3,4))"
      ],
      "metadata": {
        "colab": {
          "base_uri": "https://localhost:8080/"
        },
        "id": "q00PuVoLhB-t",
        "outputId": "da0e47f1-6f6d-4d0e-aaad-ca33dfdbe2d6"
      },
      "execution_count": null,
      "outputs": [
        {
          "output_type": "stream",
          "name": "stdout",
          "text": [
            "Area of circle with radius 4 : 50.24\n",
            "Area of rectangle with sides (3,4) : 12\n"
          ]
        }
      ]
    },
    {
      "cell_type": "code",
      "source": [
        "#QUES 3. Implement a multi-level inheritance scenario where a class Vehicle has an attribute type. Derive a class Car and further derive a class ElectricCar that adds a battery attribute.\n",
        "\n",
        "class Vehicle:\n",
        "  def start(self):\n",
        "    return \"It is starting\"\n",
        "class Car(Vehicle):\n",
        "  def engine(self):\n",
        "    return \"Enginee started\"\n",
        "class Automatic_Car(Car):\n",
        "  def move(self):\n",
        "    return \"the car is moving\"\n",
        "\n",
        "obj1=Car()\n",
        "obj2=Automatic_Car()\n",
        "print(\"Function Acessed by Car: \",obj1.start())\n",
        "print(\"Function Acessed by Car: \",obj1.engine())\n",
        "print(\"Function Acessed by Automatic Car: \",obj2.start())\n",
        "print(\"Function Acessed by Automatic Car: \",obj2.engine())\n",
        "print(\"Function Acessed by Automatic Car: \",obj2.move())"
      ],
      "metadata": {
        "colab": {
          "base_uri": "https://localhost:8080/"
        },
        "id": "fvmhNQlbh3VV",
        "outputId": "03b028f3-c2e7-47b5-919e-c401e4c2e2d0"
      },
      "execution_count": null,
      "outputs": [
        {
          "output_type": "stream",
          "name": "stdout",
          "text": [
            "Function Acessed by Car:  It is starting\n",
            "Function Acessed by Car:  Enginee started\n",
            "Function Acessed by Automatic Car:  It is starting\n",
            "Function Acessed by Automatic Car:  Enginee started\n",
            "Function Acessed by Automatic Car:  the car is moving\n"
          ]
        }
      ]
    },
    {
      "cell_type": "code",
      "source": [
        "#QUES 4. Demonstrate polymorphism by creating a base class Bird with a method fly(). Create two derived classes Sparrow and Penguin that override the fly() method.\n",
        "\n",
        "class Bird:\n",
        "  def fly(self):\n",
        "    print(\"birds can fly\")\n",
        "\n",
        "class Sparrow(Bird):\n",
        "  def fly(self):\n",
        "    print(\"Sparrow can fly\")\n",
        "\n",
        "class Penguin(Bird):\n",
        "  def fly(self):\n",
        "    print(\"Penguin can't fly\")\n",
        "\n",
        "obj1=Sparrow()\n",
        "obj2=Penguin()\n",
        "\n",
        "class_obj=[obj1,obj2]\n",
        "\n",
        "def func(class_obj):\n",
        "  for i in class_obj:\n",
        "    i.fly()\n",
        "\n",
        "func(class_obj)"
      ],
      "metadata": {
        "colab": {
          "base_uri": "https://localhost:8080/"
        },
        "id": "JRA4lF6RiB3z",
        "outputId": "f9a17f85-7cb4-459a-abd0-83cff24a97a5"
      },
      "execution_count": null,
      "outputs": [
        {
          "output_type": "stream",
          "name": "stdout",
          "text": [
            "Sparrow can fly\n",
            "Penguin can't fly\n"
          ]
        }
      ]
    },
    {
      "cell_type": "code",
      "source": [
        "#QUES 5. Write a program to demonstrate encapsulation by creating a class BankAccount with private attributes balance and methods to deposit, withdraw, and check balance.\n",
        "\n",
        "class BankAccount:\n",
        "    def __init__(self, balance=0):\n",
        "        self.__balance = balance   # private attribute\n",
        "\n",
        "    # Deposit method\n",
        "    def deposit(self, amount):\n",
        "        if amount > 0:\n",
        "            self.__balance += amount\n",
        "            print(f\"{amount} deposited successfully\")\n",
        "        else:\n",
        "            print(\"Invalid deposit amount\")\n",
        "\n",
        "    # Withdraw method\n",
        "    def withdraw(self, amount):\n",
        "        if 0 < amount <= self.__balance:\n",
        "            self.__balance -= amount\n",
        "            print(f\"{amount} withdrawn successfully\")\n",
        "        else:\n",
        "            print(\"Insufficient balance or invalid amount\")\n",
        "\n",
        "    # Check balance method\n",
        "    def check_balance(self):\n",
        "        print(f\"Current Balance: {self.__balance}\")\n",
        "\n",
        "# Demonstration\n",
        "account = BankAccount(1000)   # initial balance 1000\n",
        "account.deposit(500)\n",
        "account.withdraw(200)\n",
        "account.check_balance()"
      ],
      "metadata": {
        "colab": {
          "base_uri": "https://localhost:8080/"
        },
        "id": "IDl73lqRiTMn",
        "outputId": "97836cdd-0a92-4fed-b402-33320aec7fa9"
      },
      "execution_count": null,
      "outputs": [
        {
          "output_type": "stream",
          "name": "stdout",
          "text": [
            "500 deposited successfully\n",
            "200 withdrawn successfully\n",
            "Current Balance: 1300\n"
          ]
        }
      ]
    },
    {
      "cell_type": "code",
      "source": [
        "#QUES 6. Demonstrate runtime polymorphism using a method play() in a base class Instrument. Derive classes Guitar and Piano that implement their own version of play().\n",
        "class Instrument():\n",
        "  def play(self):\n",
        "    return \"Intrument playing \"\n",
        "class Guitar(Instrument):\n",
        "  def play(self):\n",
        "    return \"Guitar is playing\"\n",
        "class Piano(Instrument):\n",
        "  def play(self):\n",
        "    return \"Piano is playing\"\n",
        "\n",
        "inst=[Instrument(),Guitar(),Piano()]\n",
        "\n",
        "for i in inst:\n",
        "  print(i.play())"
      ],
      "metadata": {
        "colab": {
          "base_uri": "https://localhost:8080/"
        },
        "id": "QfEqusGpi36y",
        "outputId": "f30481b2-e26f-4833-aa46-f5376da494a5"
      },
      "execution_count": null,
      "outputs": [
        {
          "output_type": "stream",
          "name": "stdout",
          "text": [
            "Intrument playing \n",
            "Guitar is playing\n",
            "Piano is playing\n"
          ]
        }
      ]
    },
    {
      "cell_type": "code",
      "source": [
        "#QUES 7. Create a class MathOperations with a class method add_numbers() to add two numbers and a static method subtract_numbers() to subtract two numbers.\n",
        "\n",
        "class MathOperations:\n",
        "  @classmethod\n",
        "  def add_numbers(cls,*args):\n",
        "    return sum(args)\n",
        "  @staticmethod\n",
        "  def subtract_numbers(num1,num2):\n",
        "    return num1-num2\n",
        "\n",
        "print(\"Class Add numbers (5,6)\",MathOperations.add_numbers(5,6))\n",
        "print(\"Static subtract numbers (7,6)\",MathOperations.subtract_numbers(7,6))"
      ],
      "metadata": {
        "colab": {
          "base_uri": "https://localhost:8080/"
        },
        "id": "m9AieoyejrGm",
        "outputId": "069d4ae5-1c4c-4cca-bc8d-fce82041f727"
      },
      "execution_count": null,
      "outputs": [
        {
          "output_type": "stream",
          "name": "stdout",
          "text": [
            "Class Add numbers (5,6) 11\n",
            "Static subtract numbers (7,6) 1\n"
          ]
        }
      ]
    },
    {
      "cell_type": "code",
      "source": [
        "#QUES 8.  Implement a class Person with a class method to count the total number of persons created.\n",
        "class Person:\n",
        "  count=0\n",
        "  def __init__(self,name):\n",
        "    self.name=name\n",
        "    Person.count +=1\n",
        "\n",
        "  @classmethod\n",
        "  def total_person(cls):\n",
        "    return cls.count\n",
        "\n",
        "name1=Person(\"Tanmoy\")\n",
        "name2=Person(\"akash\")\n",
        "name3=Person(\"Tanu\")\n",
        "\n",
        "print(\"Total no of person:\", Person.total_person())"
      ],
      "metadata": {
        "colab": {
          "base_uri": "https://localhost:8080/"
        },
        "id": "-62vPxmpkVEK",
        "outputId": "80ea55b0-0fd9-4490-8e78-3d88b98b369e"
      },
      "execution_count": null,
      "outputs": [
        {
          "output_type": "stream",
          "name": "stdout",
          "text": [
            "Total no of person: 3\n"
          ]
        }
      ]
    },
    {
      "cell_type": "code",
      "source": [
        "# QUES 9.  Write a class Fraction with attributes numerator and denominator. Override the str method to display the fraction as \"numerator/denominator\".\n",
        "class Fraction:\n",
        "  def __init__(self,denominator,numerator):\n",
        "    self.denominator=denominator\n",
        "    self.numerator=numerator\n",
        "  def __str__(self):\n",
        "    return f\"{self.numerator}/{self.denominator}\"\n",
        "\n",
        "f1 = Fraction(3,4)\n",
        "f2 = Fraction(7,2)\n",
        "\n",
        "print(f1)\n",
        "print(f2)"
      ],
      "metadata": {
        "colab": {
          "base_uri": "https://localhost:8080/"
        },
        "id": "aGB4ELvlmDdu",
        "outputId": "7bb1fb4c-1fd2-4e40-e756-1c72b0d36a3c"
      },
      "execution_count": null,
      "outputs": [
        {
          "output_type": "stream",
          "name": "stdout",
          "text": [
            "4/3\n",
            "2/7\n"
          ]
        }
      ]
    },
    {
      "cell_type": "code",
      "source": [
        "#QUES 10. Demonstrate operator overloading by creating a class Vector and overriding the add method to add two vectors.\n",
        "\n",
        "class Vector:\n",
        "  def __init__(self,x,y):\n",
        "    self.x=x\n",
        "    self.y=y\n",
        "\n",
        "  def __add__(self,other):\n",
        "    return(self.x+other.x , self.y+other.y)\n",
        "\n",
        "obj=Vector(2,3)\n",
        "obj1=Vector(4,5)\n",
        "print(obj+obj1)"
      ],
      "metadata": {
        "colab": {
          "base_uri": "https://localhost:8080/"
        },
        "id": "saC64cobm8Cp",
        "outputId": "98e09af6-ec96-40a6-e039-a4c64b3704e5"
      },
      "execution_count": null,
      "outputs": [
        {
          "output_type": "stream",
          "name": "stdout",
          "text": [
            "(6, 8)\n"
          ]
        }
      ]
    },
    {
      "cell_type": "code",
      "source": [
        "#QUES 11. Create a class Person with attributes name and age. Add a method greet() that prints \"Hello, my name is {name} and I am {age} years old.\n",
        "\n",
        "class Person:\n",
        "  def __init__(self,name,age):\n",
        "    self.name=name\n",
        "    self.age=age\n",
        "\n",
        "  def __greet__(self):\n",
        "    print(f\"Hello, my name is {self.name} and I am {self.age} years old.\")\n",
        "\n",
        "create=Person(\"Tanmoy\",29)\n",
        "create.__greet__()"
      ],
      "metadata": {
        "colab": {
          "base_uri": "https://localhost:8080/"
        },
        "id": "J7nmGNhWnJdK",
        "outputId": "8013b034-8e54-47a3-b348-cd732e464260"
      },
      "execution_count": null,
      "outputs": [
        {
          "output_type": "stream",
          "name": "stdout",
          "text": [
            "Hello, my name is Tanmoy and I am 29 years old.\n"
          ]
        }
      ]
    },
    {
      "cell_type": "code",
      "source": [
        "#QUES 12. Implement a class Student with attributes name and grades. Create a method average_grade() to compute the average of the grades.\n",
        "\n",
        "class Student:\n",
        "  def __init__(self,name,grades):\n",
        "    self.name=name\n",
        "    self.grades=grades\n",
        "  def avg_grade(self):\n",
        "    if len(self.grades)==0:\n",
        "      return 0\n",
        "    return sum(self.grades)/len(self.grades)\n",
        "\n",
        "s=Student(\"Tanmoy\", [95, 90, 87, 94])\n",
        "print(\"Student Name:\", s.name)\n",
        "print(\"Average Grade:\", s.avg_grade())"
      ],
      "metadata": {
        "colab": {
          "base_uri": "https://localhost:8080/"
        },
        "id": "5T39wPbSnaHS",
        "outputId": "b09152c5-d3da-4cf9-c638-d28ee7b6ac34"
      },
      "execution_count": null,
      "outputs": [
        {
          "output_type": "stream",
          "name": "stdout",
          "text": [
            "Student Name: Tanmoy\n",
            "Average Grade: 91.5\n"
          ]
        }
      ]
    },
    {
      "cell_type": "code",
      "source": [
        "#QUES 13. Create a class Rectangle with methods set_dimensions() to set the dimensions and area() to calculate the area.\n",
        "\n",
        "class Rectangle:\n",
        "    def __init__(self):\n",
        "        self.length = 0\n",
        "        self.width = 0\n",
        "\n",
        "    def set_dimensions(self, length, width):\n",
        "        self.length = length\n",
        "        self.width = width\n",
        "\n",
        "    def area(self):\n",
        "        return self.length * self.width\n",
        "\n",
        "r1 = Rectangle()\n",
        "r1.set_dimensions(8, 7)\n",
        "print(\"Length:\", r1.length)\n",
        "print(\"Width:\", r1.width)\n",
        "print(\"Area of Rectangle:\", r1.area())"
      ],
      "metadata": {
        "colab": {
          "base_uri": "https://localhost:8080/"
        },
        "id": "klNDW8Rfoxa2",
        "outputId": "8a58ff4a-9820-43eb-c27c-297390e07519"
      },
      "execution_count": null,
      "outputs": [
        {
          "output_type": "stream",
          "name": "stdout",
          "text": [
            "Length: 8\n",
            "Width: 7\n",
            "Area of Rectangle: 56\n"
          ]
        }
      ]
    },
    {
      "cell_type": "code",
      "source": [
        "#QUES 14. Create a class Employee with a method calculate_salary() that computes the salary based on hours worked and hourly rate.Create a derived class Manager that adds a bonus to the salary.\n",
        "\n",
        "class Employee:\n",
        "    def __init__(self, name, hours_worked, hourly_rate):\n",
        "        self.name = name\n",
        "        self.hours_worked = hours_worked\n",
        "        self.hourly_rate = hourly_rate\n",
        "\n",
        "    def calculate_salary(self):\n",
        "        return self.hours_worked * self.hourly_rate\n",
        "\n",
        "\n",
        "class Manager(Employee):\n",
        "    def __init__(self, name, hours_worked, hourly_rate, bonus):\n",
        "        super().__init__(name, hours_worked, hourly_rate)\n",
        "        self.bonus = bonus\n",
        "\n",
        "    def calculate_salary(self):\n",
        "        base_salary = super().calculate_salary()\n",
        "        return base_salary + self.bonus\n",
        "\n",
        "\n",
        "\n",
        "emp1 = Employee(\"Lenin\", 60, 250)\n",
        "mgr1 = Manager(\"Tanmoy\", 60, 350, 5000)\n",
        "\n",
        "print(f\"Employee {emp1.name} Salary: {emp1.calculate_salary()}\")\n",
        "print(f\"Manager {mgr1.name} Salary: {mgr1.calculate_salary()}\")"
      ],
      "metadata": {
        "colab": {
          "base_uri": "https://localhost:8080/"
        },
        "id": "202OhJy1o6oJ",
        "outputId": "81e3b479-7ad3-4063-caca-e77abb520b38"
      },
      "execution_count": null,
      "outputs": [
        {
          "output_type": "stream",
          "name": "stdout",
          "text": [
            "Employee Lenin Salary: 15000\n",
            "Manager Tanmoy Salary: 26000\n"
          ]
        }
      ]
    },
    {
      "cell_type": "code",
      "source": [
        "#QUES 15. Create a class Product with attributes name, price, and quantity. Implement a method total_price() that calculates the total price of the product.\n",
        "\n",
        "class Product:\n",
        "    def __init__(self, name, price, quantity):\n",
        "        self.name = name\n",
        "        self.price = price\n",
        "        self.quantity = quantity\n",
        "\n",
        "    def total_price(self):\n",
        "        return self.price * self.quantity\n",
        "\n",
        "\n",
        "# Example usage\n",
        "p1 = Product(\"Laptop expense\", 40000, 2)\n",
        "p2 = Product(\"Mobile expense\", 11000, 3)\n",
        "\n",
        "print(f\"Product: {p1.name}, Total Price: {p1.total_price()}\")\n",
        "print(f\"Product: {p2.name}, Total Price: {p2.total_price()}\")"
      ],
      "metadata": {
        "colab": {
          "base_uri": "https://localhost:8080/"
        },
        "id": "Fh1biuzAqIiq",
        "outputId": "7f2245a2-df57-4284-f724-ba210db1d538"
      },
      "execution_count": null,
      "outputs": [
        {
          "output_type": "stream",
          "name": "stdout",
          "text": [
            "Product: Laptop expense, Total Price: 80000\n",
            "Product: Mobile expense, Total Price: 33000\n"
          ]
        }
      ]
    },
    {
      "cell_type": "code",
      "source": [
        "#QUES 16. Create a class Animal with an abstract method sound(). Create two derived classes Cow and Sheep that implement the sound() method.\n",
        "\n",
        "from abc import ABC, abstractmethod\n",
        "\n",
        "class Animal(ABC):   # Abstract class\n",
        "    @abstractmethod\n",
        "    def sound(self):\n",
        "        pass\n",
        "\n",
        "class Cow(Animal):\n",
        "    def sound(self):\n",
        "        return \"Moooo\"\n",
        "\n",
        "class Sheep(Animal):\n",
        "    def sound(self):\n",
        "        return \"Baaaa\"\n",
        "\n",
        "cow = Cow()\n",
        "sheep = Sheep()\n",
        "\n",
        "print(\"Cow Sound:\", cow.sound())\n",
        "print(\"Sheep Sound:\", sheep.sound())"
      ],
      "metadata": {
        "colab": {
          "base_uri": "https://localhost:8080/"
        },
        "id": "8MT24udsqxWh",
        "outputId": "1b6b8da8-1140-4112-f240-dab26dde3ba0"
      },
      "execution_count": null,
      "outputs": [
        {
          "output_type": "stream",
          "name": "stdout",
          "text": [
            "Cow Sound: Moooo\n",
            "Sheep Sound: Baaaa\n"
          ]
        }
      ]
    },
    {
      "cell_type": "code",
      "source": [
        "#QUES 17. Create a class Book with attributes title, author, and year_published. Add a method get_book_info() that returns a formatted string with the book's details\n",
        "\n",
        "class Book:\n",
        "  def __init__(self,title,author,year):\n",
        "    self.title=title\n",
        "    self.author=author\n",
        "    self.year=year\n",
        "  def get_book_info(self):\n",
        "    print(f\"Title of the book: {self.title},\\n Author name is {self.author},\\n Year of publish {self.year}\")\n",
        "\n",
        "done=Book(\"JIBONABOLI\",\"Dasbabu\",2008)\n",
        "done.get_book_info()"
      ],
      "metadata": {
        "colab": {
          "base_uri": "https://localhost:8080/"
        },
        "id": "a423gBNgrNvD",
        "outputId": "050aa371-75cd-46b8-b5e9-bfea50d483d1"
      },
      "execution_count": null,
      "outputs": [
        {
          "output_type": "stream",
          "name": "stdout",
          "text": [
            "Title of the book: JIBONABOLI,\n",
            " Author name is Dasbabu,\n",
            " Year of publish 2008\n"
          ]
        }
      ]
    },
    {
      "cell_type": "code",
      "source": [
        "#QUES 18. Create a class House with attributes address and price. Create a derived class Mansion that adds an attribute number_of_rooms.\n",
        "\n",
        "class House:\n",
        "    def __init__(self, address, price):\n",
        "        self.address = address\n",
        "        self.price = price\n",
        "\n",
        "    def get_info(self):\n",
        "        return f\"House located at {self.address}, Price: ₹{self.price}\"\n",
        "\n",
        "\n",
        "class Mansion(House):\n",
        "    def __init__(self, address, price, number_of_rooms):\n",
        "        super().__init__(address, price)\n",
        "        self.number_of_rooms = number_of_rooms\n",
        "\n",
        "    def get_info(self):\n",
        "        return f\"Mansion located at {self.address}, Price: ₹{self.price}, Rooms: {self.number_of_rooms}\"\n",
        "\n",
        "h1 = House(\"139,Indrapuri road\", 75000000)\n",
        "m1 = Mansion(\"24 Southern Avenue\", 25000000, 12)\n",
        "\n",
        "print(h1.get_info())\n",
        "print(m1.get_info())"
      ],
      "metadata": {
        "colab": {
          "base_uri": "https://localhost:8080/"
        },
        "id": "W74qUSQUstqq",
        "outputId": "49079315-65bd-49da-ce2a-2016a3ddb117"
      },
      "execution_count": null,
      "outputs": [
        {
          "output_type": "stream",
          "name": "stdout",
          "text": [
            "House located at 139,Indrapuri road, Price: ₹75000000\n",
            "Mansion located at 24 Southern Avenue, Price: ₹25000000, Rooms: 12\n"
          ]
        }
      ]
    }
  ]
}